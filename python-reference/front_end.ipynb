{
 "cells": [
  {
   "cell_type": "code",
   "metadata": {
    "ExecuteTime": {
     "end_time": "2024-10-09T20:50:01.013447Z",
     "start_time": "2024-10-09T20:49:59.690411Z"
    }
   },
   "source": [
    "import numpy as np\n",
    "from sklearn.datasets import fetch_openml\n",
    "import matplotlib.pyplot as plt\n",
    "from implementation import NeuralNet\n",
    "np.random.seed(0)"
   ],
   "outputs": [],
   "execution_count": 1
  },
  {
   "cell_type": "code",
   "metadata": {
    "scrolled": true,
    "ExecuteTime": {
     "end_time": "2024-10-09T20:50:01.018623Z",
     "start_time": "2024-10-09T20:50:01.016468Z"
    }
   },
   "source": [
    "#for input from CSV file.\n",
    "# data = np.genfromtxt(\"../data/train.csv\", delimiter=\",\", skip_header=1, dtype=int)\n",
    "# labels = data[:,0]\n",
    "# images = data[:,1:]/255\n",
    "\n",
    "# length = int(len(labels)*.9) #Train on the first 90%. Test on 10%\n",
    "# training_labels, test_labels = labels[:length], labels[length:]\n",
    "# training_images, test_images = images[:length], images[length:]"
   ],
   "outputs": [],
   "execution_count": 2
  },
  {
   "cell_type": "code",
   "metadata": {
    "ExecuteTime": {
     "end_time": "2024-10-09T20:50:03.608464Z",
     "start_time": "2024-10-09T20:50:01.134403Z"
    }
   },
   "source": [
    "#for input from directly fetching mnist\n",
    "mnist = fetch_openml('mnist_784', as_frame=False)\n",
    "labels = mnist.target.astype(int)\n",
    "images = mnist.data/255\n",
    "\n",
    "length = 60_000 #Train on 60k, test on 10k\n",
    "training_labels, test_labels = labels[:length], labels[length:]\n",
    "training_images, test_images = images[:length], images[length:]"
   ],
   "outputs": [],
   "execution_count": 3
  },
  {
   "cell_type": "code",
   "metadata": {
    "ExecuteTime": {
     "end_time": "2024-10-09T20:50:03.710996Z",
     "start_time": "2024-10-09T20:50:03.623601Z"
    }
   },
   "source": [
    "def plot_image(i):\n",
    "    plt.imshow(images[i,:].reshape(28,28), cmap=\"gray\")\n",
    "    plt.title(labels[i])\n",
    "    plt.show()\n",
    "plot_image(0)"
   ],
   "outputs": [
    {
     "data": {
      "text/plain": [
       "<Figure size 640x480 with 1 Axes>"
      ],
      "image/png": "[encoded data removed]"
     },
     "metadata": {},
     "output_type": "display_data"
    }
   ],
   "execution_count": 4
  },
  {
   "cell_type": "code",
   "metadata": {
    "ExecuteTime": {
     "end_time": "2024-10-09T20:50:04.225874Z",
     "start_time": "2024-10-09T20:50:03.721514Z"
    }
   },
   "source": [
    "net = NeuralNet([784, 300, 300, 10])\n",
    "net.evaluate((test_labels, images))"
   ],
   "outputs": [
    {
     "data": {
      "text/plain": [
       "0.1027"
      ]
     },
     "execution_count": 5,
     "metadata": {},
     "output_type": "execute_result"
    }
   ],
   "execution_count": 5
  },
  {
   "cell_type": "code",
   "metadata": {
    "ExecuteTime": {
     "end_time": "2024-10-09T20:52:09.577864Z",
     "start_time": "2024-10-09T20:50:04.304416Z"
    }
   },
   "source": [
    "%%time\n",
    "net.train(training_data=(training_labels, training_images), iterations=1, batch_size=10, learning_rate=0.1)\n",
    "net.evaluate((test_labels, test_images))"
   ],
   "outputs": [
    {
     "name": "stdout",
     "output_type": "stream",
     "text": [
      "CPU times: total: 16.3 s\n",
      "Wall time: 2min 5s\n"
     ]
    },
    {
     "data": {
      "text/plain": [
       "0.9147"
      ]
     },
     "execution_count": 6,
     "metadata": {},
     "output_type": "execute_result"
    }
   ],
   "execution_count": 6
  },
  {
   "cell_type": "code",
   "metadata": {
    "ExecuteTime": {
     "end_time": "2024-10-09T22:52:42.647330Z",
     "start_time": "2024-10-09T22:52:42.349538Z"
    }
   },
   "source": [
    "# net.export_csv()\n",
    "import pandas as pd\n",
    "print(np.shape(net.biases[0]))\n",
    "print(np.shape(net.biases[1]))\n",
    "print(np.shape(net.biases[2]))\n",
    "\n",
    "print(np.shape(net.weights[0]))\n",
    "print(np.shape(net.weights[1]))\n",
    "print(np.shape(net.weights[2]))\n",
    "\n",
    "def export_csv(net):\n",
    "    print(net.biases)\n",
    "    df_biases_a1 = pd.DataFrame(net.biases[0])\n",
    "    df_biases_a2 = pd.DataFrame(net.biases[1])\n",
    "    df_biases_o = pd.DataFrame(net.biases[2])\n",
    "    print(net.weights)\n",
    "    df_weight_a1 = pd.DataFrame(net.weights[0])\n",
    "    df_weight_a2 = pd.DataFrame(net.weights[1])\n",
    "    df_weight_o = pd.DataFrame(net.weights[2])\n",
    "\n",
    "    df_biases_a1.to_csv('../data/biases_a1.csv', index=False)\n",
    "    df_biases_a2.to_csv('../data/biases_a2.csv' , index=False)\n",
    "    df_biases_o.to_csv('../data/biases_o.csv', index=False)\n",
    "\n",
    "    df_weight_a1.to_csv('../data/weights_a1.csv', index=False)\n",
    "    df_weight_a2.to_csv('../data/weights_a2.csv', index=False)\n",
    "    df_weight_o.to_csv('../data/weights_o.csv', index=False)\n",
    "    return\n",
    "\n",
    "export_csv(net)"
   ],
   "outputs": [
    {
     "name": "stdout",
     "output_type": "stream",
     "text": [
      "(300,)\n",
      "(300,)\n",
      "(10,)\n",
      "(300, 784)\n",
      "(300, 300)\n",
      "(10, 300)\n",
      "[array([ 1.78442306,  0.44369142,  1.03150665,  2.35613424,  1.83925867,\n",
      "       -0.74283309,  0.94611919, -0.20985003, -0.24317427,  0.34661312,\n",
      "        0.25661484,  1.40037387,  0.84557837,  0.01406722,  0.49426352,\n",
      "        0.48497671,  1.48800516, -0.13639427,  0.05072545, -0.69366849,\n",
      "       -2.57826531,  0.67825234,  0.826229  , -0.79980565,  2.16637759,\n",
      "       -1.40205067, -0.0038151 , -0.11757056,  1.60675138,  1.42134438,\n",
      "        0.00619576,  0.49441043, -0.96412648, -1.96721864, -0.19525382,\n",
      "        0.41835164,  1.11489666,  1.23471433, -0.49701248, -0.45518371,\n",
      "       -1.19516743, -1.2091789 , -1.6849262 ,  2.04191817, -0.54877232,\n",
      "       -0.71492472, -1.19222937,  0.81637607, -1.63798352, -0.0999482 ,\n",
      "       -1.00030364,  0.34797817, -0.46640016, -1.24155645,  0.03744051,\n",
      "        0.41342336,  0.03438303,  0.15102659, -0.80706107, -0.21447281,\n",
      "       -0.85144882, -0.34280285, -0.82889425, -1.65478731,  0.15509541,\n",
      "       -0.37555758, -1.62843417,  0.47655144, -0.90228554,  0.16986082,\n",
      "        0.49362921,  0.10250998,  1.07003472, -1.25931956,  0.61759684,\n",
      "       -0.86897308, -0.7844478 , -0.67599311, -0.40264492, -0.11756003,\n",
      "       -1.10617162,  0.71094517,  0.58525242, -1.44023354,  1.4453619 ,\n",
      "        1.9666675 ,  1.10365494, -0.17284963, -1.08075205,  1.15283129,\n",
      "       -0.40155662,  1.23272759,  0.09538466,  1.06973284,  0.30039959,\n",
      "        0.94643282, -0.1165991 ,  1.89527454,  0.06314475,  0.24567962,\n",
      "        1.7914497 , -1.48011272, -1.36987206,  1.06335451, -1.09558575,\n",
      "        1.9986666 , -0.4399888 , -0.58827759,  2.05414766,  1.46495796,\n",
      "        1.91184724,  0.99207972, -0.74455803,  1.93369497, -0.27341163,\n",
      "        0.64065462,  0.92165247, -0.08275604,  0.64565632,  0.69539265,\n",
      "        0.35188764, -1.16453336,  0.18981444,  1.29111211, -0.75318191,\n",
      "       -0.06081282, -0.67434611,  1.91537807,  0.50378671,  0.39291242,\n",
      "       -0.84267624,  0.60247996, -0.77437598,  0.13273658, -0.78146646,\n",
      "        0.76939906,  0.81902187, -0.18509451,  0.46768706, -1.09458434,\n",
      "       -1.26726612,  0.38749866,  0.18815207,  0.52530731,  2.35082262,\n",
      "        1.18790281, -0.76921213,  1.18117034, -1.20331191, -0.51405368,\n",
      "       -0.01884855,  1.79400979, -0.79467299, -0.777733  , -0.09906327,\n",
      "       -0.79713292,  1.17936339, -1.02230734, -1.31119549, -0.37054973,\n",
      "       -0.51481562,  1.89241244,  1.01502957,  0.1692792 , -1.02666045,\n",
      "        0.94635598, -0.88186803, -1.62276991,  1.0462979 ,  0.16157166,\n",
      "        0.96551673,  0.55182809,  0.71980503, -0.78480847, -0.96380021,\n",
      "        0.71567842, -0.70798035, -0.85694935, -0.60260702,  0.25226518,\n",
      "       -0.34038743, -1.29013646, -0.72255185, -2.2344649 ,  0.5561728 ,\n",
      "       -1.53793603, -0.9792856 ,  0.17943698, -0.63322839,  1.58764448,\n",
      "       -1.42106218,  0.43522111, -0.0470251 , -1.14497036,  0.68728749,\n",
      "       -0.27267874,  0.88939629,  0.9576667 ,  2.16691823,  1.2624652 ,\n",
      "       -0.21848088, -0.13351349,  0.99019847,  0.78317904,  0.76211651,\n",
      "       -1.61994551,  0.02848885, -0.53573575,  0.28259498, -0.04520039,\n",
      "        0.9489753 ,  0.16251503,  0.72220531, -0.5033166 , -1.02965589,\n",
      "       -0.37951643,  0.07237853,  0.44561786,  2.24753113,  0.0569436 ,\n",
      "       -0.94291019, -0.36971554, -0.65573595,  0.33772291, -1.42474899,\n",
      "        0.16338935,  0.01799935,  0.22438652, -0.54254599, -0.14520507,\n",
      "       -1.11810703, -0.66184942, -0.39658319,  0.52527074, -1.05971658,\n",
      "        0.61764176,  1.66925483, -2.05151502,  0.43062867,  0.66378376,\n",
      "       -0.56672424, -0.31334309,  0.03331973, -0.17953701, -0.33001926,\n",
      "       -1.67104171,  1.03829699,  0.99442805, -0.77005627, -1.42136793,\n",
      "        0.58187553, -0.59586725,  0.15210215, -0.2192112 ,  0.82364156,\n",
      "        0.66606053, -0.89197469, -1.52905015, -1.48002064,  0.58772622,\n",
      "       -1.19358373, -0.60118521, -0.62876109,  0.09642604, -1.84888504,\n",
      "        0.15253909,  0.24949778,  0.05012565, -0.37426035, -0.04348534,\n",
      "        0.39232283, -2.63088372,  2.01191497,  0.29860708, -0.64822633,\n",
      "       -0.18566121,  0.6334057 ,  0.04197712, -1.97968346,  2.10584396,\n",
      "        0.03042141,  1.01331165, -0.7620768 ,  1.54142813,  0.34312147,\n",
      "        0.62629528, -0.81937152,  1.34117147,  0.81329474,  1.3225934 ,\n",
      "       -0.66864284, -0.45006376,  2.25897405, -0.8543726 , -0.07928886,\n",
      "        1.20692623,  0.19973288,  0.685282  , -0.53030589,  0.22803058]), array([-1.1892488 ,  1.72516741, -0.11812983, -0.59848165,  0.63521562,\n",
      "       -0.37854666, -1.32647739, -1.39654732,  0.69424951, -0.20697511,\n",
      "       -0.05294932,  0.92847943, -1.19192471, -0.78211581, -0.43954238,\n",
      "        0.03161597, -0.0754262 , -0.30658837, -0.10776381, -0.15570524,\n",
      "       -0.79694045, -0.86153951,  0.30616201, -0.9297244 , -1.04309677,\n",
      "       -0.45263988, -0.1855034 ,  2.14568526, -0.77985713,  0.9025069 ,\n",
      "        0.74781259, -1.07562217,  0.74091466, -1.22036151, -2.6188883 ,\n",
      "        0.58511459, -1.77312729,  0.48626783, -0.56088249,  1.6282811 ,\n",
      "        1.13441085, -0.40325963, -0.71130971, -1.3141636 , -0.44555464,\n",
      "       -0.17834812, -0.34640058,  0.22697537,  0.4623963 ,  0.38013696,\n",
      "       -0.82050451, -1.43131013,  1.48042062, -0.71382126, -0.66319148,\n",
      "       -0.48685552, -1.83089057, -0.55396956, -0.4611058 ,  0.61883297,\n",
      "        0.68766407,  0.04533823,  0.88331133,  0.3541747 ,  0.01636707,\n",
      "        0.17841142, -0.25363431, -0.40242568, -0.38007254, -1.30556205,\n",
      "        0.28679979, -1.08554016,  0.74277213, -0.30816089,  0.02420795,\n",
      "        0.54983099,  0.6241587 , -1.66913768, -0.15653995,  0.79897283,\n",
      "       -1.72936282,  0.33213392, -2.30663324, -1.1036622 , -0.04383479,\n",
      "       -1.66436231, -1.0569057 , -1.47809273,  1.68394878,  0.10929898,\n",
      "        0.53144797, -0.3321347 , -0.34657202, -1.70938073, -0.40467907,\n",
      "       -0.70379841,  0.75203358,  1.13375576,  1.50146461,  0.89784543,\n",
      "       -0.53451022, -1.02867684,  0.71043614,  0.28699381, -1.80358159,\n",
      "        0.26342067,  0.81696336,  0.06055881, -0.12200488, -0.87596197,\n",
      "       -1.38236343,  0.75129543, -0.29432929, -0.20626229,  1.72421147,\n",
      "        0.57643814,  0.37053194,  0.07647607,  1.45793726,  1.74037383,\n",
      "        0.92966389,  0.64045193, -2.06604987,  0.08009838, -0.11547771,\n",
      "        0.09594982,  0.89769266, -2.79392994, -0.56710714,  0.32993513,\n",
      "       -0.55968601, -1.34070771,  0.78241954,  0.26456607, -0.89441995,\n",
      "        0.33776136,  0.75998242,  0.07052382,  0.85370179,  0.02215998,\n",
      "       -0.42985769, -1.18620524, -0.0099934 ,  0.20765221,  0.89203917,\n",
      "       -0.1090094 ,  0.40902268, -0.99412075, -0.84581717, -0.14393797,\n",
      "       -1.04624241,  0.80443508,  0.47297941,  0.3351052 ,  0.28213137,\n",
      "        2.08722023, -0.38322823, -2.17765673,  0.13841345,  0.05110878,\n",
      "       -0.53512997, -1.01735358, -0.48273017,  0.12203188, -0.52073489,\n",
      "        2.43520555, -0.88295469, -0.66184632, -2.318433  ,  0.22772778,\n",
      "       -1.89738753, -0.51595322, -0.271075  , -0.77915098,  1.67188765,\n",
      "        0.908499  ,  1.18756308, -0.98812019,  1.10365753,  0.59630306,\n",
      "        0.80438943,  0.99496805, -0.86663071, -0.44023585,  0.91512952,\n",
      "       -2.67152009,  1.53147546,  0.71616036, -0.07081561,  0.11647548,\n",
      "       -1.07681843, -0.39814062,  1.06179852,  1.20254719,  2.72866614,\n",
      "       -0.07470385, -0.55437025, -0.59101328, -1.01156912, -0.01708999,\n",
      "        0.3587534 , -0.04642335,  1.1535814 , -0.13465846, -0.26994627,\n",
      "       -0.62709873, -1.70158075, -1.53134147, -1.23400252,  1.35256309,\n",
      "        0.84571613,  1.24098597, -1.37322882, -1.87626939, -0.66059378,\n",
      "        0.06947276,  0.51319528,  0.98404257,  0.34028785,  1.7485418 ,\n",
      "       -0.16632769, -1.056836  , -1.73785877, -1.00359841,  0.22903749,\n",
      "       -0.90729701,  0.83419043,  1.3918135 , -2.43195734,  0.77891452,\n",
      "       -2.32787811,  0.4307017 ,  1.25632388,  0.09405261, -1.3375682 ,\n",
      "       -0.54919596, -0.22902824, -0.2650292 , -0.11636504, -0.08426351,\n",
      "        0.25165587, -1.19802645, -0.25026628,  1.51835358, -0.54185291,\n",
      "       -0.48335973,  1.02347533, -2.56401963,  1.15673357, -0.72882862,\n",
      "        0.25084421,  0.07029209,  0.89925733, -0.25263298, -0.58617539,\n",
      "        1.40538886, -2.29090307,  0.00481801, -1.33167975, -0.79915742,\n",
      "        2.04649777, -0.06269297,  0.20704162, -1.83834686, -0.82414978,\n",
      "        0.17093567,  0.34757463,  0.51619173, -0.02518485,  0.51907948,\n",
      "        0.48260766, -1.74981282, -0.04769997,  0.68810461,  0.60130297,\n",
      "       -0.37073835, -0.72440773, -1.00651901, -0.03520253,  1.06175696,\n",
      "       -2.05255616, -0.57273075, -1.26154775,  0.75750097, -0.63831091,\n",
      "       -0.54664822, -0.22672088,  0.34103848, -0.34202378, -3.08381526,\n",
      "        0.5463134 ,  0.42385261, -0.15404954, -1.05976843,  0.42200335,\n",
      "        0.43900403, -0.42409679, -0.21862761, -0.99920477, -0.29949632]), array([-1.54549344,  0.27143064, -0.97866407, -0.02805087, -1.35566302,\n",
      "       -0.63207154, -0.2573519 , -1.70675167, -0.0244963 , -0.39342572])]\n",
      "[array([[-1.54532947, -1.15587125,  0.53669273, ..., -0.44987607,\n",
      "         0.13717878,  0.92378718],\n",
      "       [-0.03482754, -0.84162689,  0.11699509, ...,  0.95781192,\n",
      "         0.9704379 , -0.9705035 ],\n",
      "       [-0.13094248,  1.00382595, -1.49421875, ...,  0.43977956,\n",
      "        -1.17119951,  0.44264751],\n",
      "       ...,\n",
      "       [ 0.04783846,  0.06851095, -1.10979706, ...,  0.54297609,\n",
      "         0.13535158, -0.47510936],\n",
      "       [-0.33924599,  1.33035198,  2.08051447, ...,  1.0054065 ,\n",
      "        -0.36267074, -1.30251084],\n",
      "       [ 0.06971688, -0.22563523,  0.21258807, ..., -0.40090147,\n",
      "         0.42705525,  0.79432379]]), array([[ 0.77105196,  1.35305133,  2.42550878, ..., -0.16009292,\n",
      "        -0.67529738,  0.03202504],\n",
      "       [-0.47795835,  0.67548959,  0.2403486 , ...,  0.01091817,\n",
      "        -0.72967042, -1.23748213],\n",
      "       [-0.74769166, -1.30435812,  0.50922868, ...,  0.89032043,\n",
      "         0.05161664, -1.09603335],\n",
      "       ...,\n",
      "       [ 0.97705196,  0.98435149,  0.70393823, ...,  1.254742  ,\n",
      "         0.90073436, -0.38715386],\n",
      "       [-1.21647492,  0.77264799, -1.44528432, ..., -0.80381933,\n",
      "         0.41836459,  0.24983042],\n",
      "       [-0.39553673, -0.66302666, -0.55061698, ...,  0.50387847,\n",
      "        -0.05263744, -0.32224574]]), array([[ 0.71395291, -1.1939577 ,  0.83701405, ...,  0.10687995,\n",
      "        -1.57157052, -0.75642018],\n",
      "       [-0.06239115, -0.27577495, -0.83961776, ..., -0.00416512,\n",
      "         0.83771117, -0.02689024],\n",
      "       [ 1.76267761, -0.26183964,  0.37718593, ...,  0.49230544,\n",
      "         0.24299677,  1.51769762],\n",
      "       ...,\n",
      "       [-0.3123316 , -0.57920469, -0.64337043, ..., -0.33975463,\n",
      "        -0.52413578, -0.24415162],\n",
      "       [ 0.5112623 , -0.16968355, -0.84436693, ..., -0.43389495,\n",
      "         0.52037996, -0.70394936],\n",
      "       [ 1.11448519, -1.48741137, -0.92910934, ...,  0.13655829,\n",
      "        -0.87350967, -0.41600355]])]\n"
     ]
    }
   ],
   "execution_count": 18
  },
  {
   "metadata": {},
   "cell_type": "code",
   "outputs": [],
   "execution_count": null,
   "source": ""
  }
 ],
 "metadata": {
  "kernelspec": {
   "display_name": "Python 3 (ipykernel)",
   "language": "python",
   "name": "python3"
  },
  "language_info": {
   "codemirror_mode": {
    "name": "ipython",
    "version": 3
   },
   "file_extension": ".py",
   "mimetype": "text/x-python",
   "name": "python",
   "nbconvert_exporter": "python",
   "pygments_lexer": "ipython3",
   "version": "3.12.4"
  }
 },
 "nbformat": 4,
 "nbformat_minor": 4
}
