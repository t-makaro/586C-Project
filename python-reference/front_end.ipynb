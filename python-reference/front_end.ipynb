{
 "cells": [
  {
   "cell_type": "code",
   "execution_count": 1,
   "metadata": {
    "ExecuteTime": {
     "end_time": "2024-10-09T20:50:01.013447Z",
     "start_time": "2024-10-09T20:49:59.690411Z"
    }
   },
   "outputs": [],
   "source": [
    "import numpy as np\n",
    "from sklearn.datasets import fetch_openml\n",
    "import matplotlib.pyplot as plt\n",
    "from implementation import NeuralNet\n",
    "import pandas as pd\n",
    "np.random.seed(0)"
   ]
  },
  {
   "cell_type": "code",
   "execution_count": 2,
   "metadata": {
    "ExecuteTime": {
     "end_time": "2024-10-09T20:50:01.018623Z",
     "start_time": "2024-10-09T20:50:01.016468Z"
    },
    "scrolled": true
   },
   "outputs": [],
   "source": [
    "#for input from CSV file.\n",
    "# data = np.genfromtxt(\"../data/train.csv\", delimiter=\",\", skip_header=1, dtype=int)\n",
    "# labels = data[:,0]\n",
    "# images = data[:,1:]/255\n",
    "\n",
    "# length = int(len(labels)*.9) #Train on the first 90%. Test on 10%\n",
    "# training_labels, test_labels = labels[:length], labels[length:]\n",
    "# training_images, test_images = images[:length], images[length:]"
   ]
  },
  {
   "cell_type": "code",
   "execution_count": 3,
   "metadata": {
    "ExecuteTime": {
     "end_time": "2024-10-09T20:50:03.608464Z",
     "start_time": "2024-10-09T20:50:01.134403Z"
    }
   },
   "outputs": [
    {
     "name": "stderr",
     "output_type": "stream",
     "text": [
      "c:\\Users\\TMOko\\anaconda3\\Lib\\site-packages\\sklearn\\datasets\\_openml.py:968: FutureWarning: The default value of `parser` will change from `'liac-arff'` to `'auto'` in 1.4. You can set `parser='auto'` to silence this warning. Therefore, an `ImportError` will be raised from 1.4 if the dataset is dense and pandas is not installed. Note that the pandas parser may return different data types. See the Notes Section in fetch_openml's API doc for details.\n",
      "  warn(\n"
     ]
    }
   ],
   "source": [
    "#for input from directly fetching mnist\n",
    "mnist = fetch_openml('mnist_784', as_frame=False)\n",
    "labels = mnist.target.astype(int)\n",
    "images = mnist.data/255\n",
    "\n",
    "length = 60_000 #Train on 60k, test on 10k\n",
    "training_labels, test_labels = labels[:length], labels[length:]\n",
    "training_images, test_images = images[:length], images[length:]"
   ]
  },
  {
   "cell_type": "code",
   "execution_count": 4,
   "metadata": {
    "ExecuteTime": {
     "end_time": "2024-10-09T20:50:03.710996Z",
     "start_time": "2024-10-09T20:50:03.623601Z"
    }
   },
   "outputs": [
    {
     "data": {
      "image/png": "[encoded data removed]",
      "text/plain": [
       "<Figure size 640x480 with 1 Axes>"
      ]
     },
     "metadata": {},
     "output_type": "display_data"
    }
   ],
   "source": [
    "def export_csv(net, ext=\"\"):\n",
    "    df_biases_a1 = pd.DataFrame(net.biases[0])\n",
    "    df_biases_a2 = pd.DataFrame(net.biases[1])\n",
    "    df_biases_o = pd.DataFrame(net.biases[2])\n",
    "    \n",
    "    df_weight_a1 = pd.DataFrame(net.weights[0])\n",
    "    df_weight_a2 = pd.DataFrame(net.weights[1])\n",
    "    df_weight_o = pd.DataFrame(net.weights[2])\n",
    "\n",
    "    df_biases_a1.to_csv(f'../data/biases_a1{ext}.csv', index=False)\n",
    "    df_biases_a2.to_csv(f'../data/biases_a2{ext}.csv' , index=False)\n",
    "    df_biases_o.to_csv(f'../data/biases_o{ext}.csv', index=False)\n",
    "\n",
    "    df_weight_a1.to_csv(f'../data/weights_a1{ext}.csv', index=False)\n",
    "    df_weight_a2.to_csv(f'../data/weights_a2{ext}.csv', index=False)\n",
    "    df_weight_o.to_csv(f'../data/weights_o{ext}.csv', index=False)\n",
    "\n",
    "def plot_image(i):\n",
    "    plt.imshow(images[i,:].reshape(28,28), cmap=\"gray\")\n",
    "    plt.title(labels[i])\n",
    "    plt.show()\n",
    "plot_image(0)"
   ]
  },
  {
   "cell_type": "code",
   "execution_count": 5,
   "metadata": {
    "ExecuteTime": {
     "end_time": "2024-10-09T20:50:04.225874Z",
     "start_time": "2024-10-09T20:50:03.721514Z"
    }
   },
   "outputs": [],
   "source": [
    "net = NeuralNet([784, 300, 300, 10])\n",
    "__export__init__ = False\n",
    "if __export__init__:\n",
    "    print(np.shape(net.biases[0]))\n",
    "    print(np.shape(net.biases[1]))\n",
    "    print(np.shape(net.biases[2]))\n",
    "    \n",
    "    print(np.shape(net.weights[0]))\n",
    "    print(np.shape(net.weights[1]))\n",
    "    print(np.shape(net.weights[2]))\n",
    "    export_csv(net, \"_init\")"
   ]
  },
  {
   "cell_type": "code",
   "execution_count": 6,
   "metadata": {},
   "outputs": [
    {
     "name": "stdout",
     "output_type": "stream",
     "text": [
      "CPU times: total: 906 ms\n",
      "Wall time: 936 ms\n"
     ]
    },
    {
     "data": {
      "text/plain": [
       "0.1113"
      ]
     },
     "execution_count": 6,
     "metadata": {},
     "output_type": "execute_result"
    }
   ],
   "source": [
    "%%time\n",
    "#Evaluate the model before training\n",
    "net.evaluate((test_labels, test_images))"
   ]
  },
  {
   "cell_type": "code",
   "execution_count": 7,
   "metadata": {
    "ExecuteTime": {
     "end_time": "2024-10-09T20:52:09.577864Z",
     "start_time": "2024-10-09T20:50:04.304416Z"
    }
   },
   "outputs": [
    {
     "name": "stdout",
     "output_type": "stream",
     "text": [
      "CPU times: total: 1min 17s\n",
      "Wall time: 1min 23s\n"
     ]
    },
    {
     "data": {
      "text/plain": [
       "0.9108"
      ]
     },
     "execution_count": 7,
     "metadata": {},
     "output_type": "execute_result"
    }
   ],
   "source": [
    "%%time\n",
    "net.train(training_data=(training_labels, training_images), iterations=1, batch_size=10, learning_rate=0.1)\n",
    "net.evaluate((test_labels, test_images))"
   ]
  },
  {
   "cell_type": "code",
   "execution_count": 8,
   "metadata": {},
   "outputs": [
    {
     "name": "stdout",
     "output_type": "stream",
     "text": [
      "CPU times: total: 2.92 s\n",
      "Wall time: 3.03 s\n"
     ]
    },
    {
     "data": {
      "text/plain": [
       "0.9204166666666667"
      ]
     },
     "execution_count": 8,
     "metadata": {},
     "output_type": "execute_result"
    }
   ],
   "source": [
    "%%time\n",
    "#time the model on 60k images for reference.\n",
    "net.evaluate((training_labels, training_images))"
   ]
  },
  {
   "cell_type": "code",
   "execution_count": 8,
   "metadata": {
    "ExecuteTime": {
     "end_time": "2024-10-09T22:52:42.647330Z",
     "start_time": "2024-10-09T22:52:42.349538Z"
    }
   },
   "outputs": [],
   "source": [
    "#export final weights and biases for use elsewhere\n",
    "if __export__init__:\n",
    "    export_csv(net)"
   ]
  },
  {
   "cell_type": "code",
   "execution_count": 8,
   "metadata": {},
   "outputs": [
    {
     "data": {
      "text/plain": [
       "([array([[-0., -0., -0., ..., -0., -0., -0.],\n",
       "         [ 0.,  0.,  0., ...,  0.,  0.,  0.],\n",
       "         [ 0.,  0.,  0., ...,  0.,  0.,  0.],\n",
       "         ...,\n",
       "         [ 0.,  0.,  0., ...,  0.,  0.,  0.],\n",
       "         [-0., -0., -0., ..., -0., -0., -0.],\n",
       "         [-0., -0., -0., ..., -0., -0., -0.]]),\n",
       "  array([[ 1.72423120e-02,  1.51156937e-02,  1.48649812e-07, ...,\n",
       "           1.13286459e-02,  1.10536147e-02,  2.28504704e-03],\n",
       "         [-5.73236018e-02, -5.02534700e-02, -4.94199539e-07, ...,\n",
       "          -3.76630924e-02, -3.67487266e-02, -7.59684239e-03],\n",
       "         [-4.87126313e-01, -4.27045524e-01, -4.19962444e-06, ...,\n",
       "          -3.20054615e-01, -3.12284489e-01, -6.45566870e-02],\n",
       "         ...,\n",
       "         [ 1.33232725e-08,  1.16800176e-08,  1.14862900e-13, ...,\n",
       "           8.75373542e-09,  8.54121658e-09,  1.76567414e-09],\n",
       "         [-7.23949061e-02, -6.34659221e-02, -6.24132611e-07, ...,\n",
       "          -4.75653301e-02, -4.64105627e-02, -9.59417543e-03],\n",
       "         [-3.14721389e-03, -2.75904539e-03, -2.71328320e-08, ...,\n",
       "          -2.06780112e-03, -2.01760007e-03, -4.17086282e-04]]),\n",
       "  array([[2.11526656e-12, 2.08908168e-12, 1.90507321e-12, ...,\n",
       "          2.21036246e-12, 5.61157380e-13, 2.19913271e-12],\n",
       "         [9.56969604e-01, 9.45123280e-01, 8.61875845e-01, ...,\n",
       "          9.99992024e-01, 2.53873704e-01, 9.94911563e-01],\n",
       "         [2.63574454e-05, 2.60311666e-05, 2.37383146e-05, ...,\n",
       "          2.75423953e-05, 6.99234568e-06, 2.74024661e-05],\n",
       "         ...,\n",
       "         [2.00329542e-01, 1.97849663e-01, 1.80422861e-01, ...,\n",
       "          2.09335744e-01, 5.31452646e-02, 2.08272214e-01],\n",
       "         [9.56933955e-01, 9.45088072e-01, 8.61843739e-01, ...,\n",
       "          9.99954772e-01, 2.53864246e-01, 9.94874501e-01],\n",
       "         [3.81631220e-04, 3.76907009e-04, 3.43708650e-04, ...,\n",
       "          3.98788190e-04, 1.01242642e-04, 3.96762146e-04]])],\n",
       " [array([-8.41391943e-02,  2.88494314e-01,  8.61592805e-06, -1.25459576e-05,\n",
       "          2.56059741e-08, -1.06314636e-05, -8.10539920e-02, -1.96113592e-02,\n",
       "         -4.14269505e-05,  1.29260522e-02,  1.46936585e-03, -3.84580101e-05,\n",
       "         -5.40175021e-04,  1.48724379e-07, -2.15844131e-03, -9.82741144e-02,\n",
       "          3.56630226e-09, -5.38361353e-02,  2.51153804e-01, -9.07572092e-02,\n",
       "          3.77765263e-04,  4.20281585e-06, -1.03686420e+00,  6.62284028e-07,\n",
       "         -6.29761424e-08, -1.68412211e-07,  5.15496199e-07, -2.52003167e-02,\n",
       "         -8.61102615e-02,  4.45338829e-01,  3.54021184e-01,  8.86610157e-04,\n",
       "          5.68597275e-03,  1.82727787e-01,  1.58146180e-07,  4.90865056e-03,\n",
       "         -1.06494055e-08,  1.46098322e-02,  1.07187531e-02, -5.78180416e-03,\n",
       "          5.76509749e-01, -4.77754326e-05, -9.26953076e-13,  1.12438853e-08,\n",
       "          2.86660378e-07,  1.53372654e-01,  4.51088604e-03, -1.05932240e-05,\n",
       "         -3.77133109e-02, -6.09567387e-05, -5.25756099e-07,  1.06045713e-05,\n",
       "          1.64843187e-02,  1.36354058e-08,  6.34663918e-01, -1.07688500e-08,\n",
       "          2.18432300e-04, -3.15814330e-03,  3.43233387e-08,  1.79564276e-02,\n",
       "          2.41562403e-07,  8.00769166e-11,  5.41878482e-03,  6.25943124e-01,\n",
       "         -1.83264428e-02, -5.83104883e-02, -1.67130272e-07, -4.27515680e-05,\n",
       "          6.30329904e-02,  2.68414016e-08,  5.52168457e-02,  2.39441677e-01,\n",
       "          3.09905024e-06,  1.56695893e-04, -1.86197083e-01,  5.11158339e-03,\n",
       "          1.66878685e-02,  2.96520957e-01, -1.80733584e-02,  1.45063985e-02,\n",
       "          8.27927947e-04, -2.96705386e-01, -1.37979219e-04,  2.39326021e-02,\n",
       "         -4.27115882e-07,  6.56735152e-05,  9.20313985e-02, -1.27848701e-02,\n",
       "          2.16283190e-03,  6.94457369e-03,  9.10059396e-02, -1.12867208e-10,\n",
       "          5.21000008e-03, -2.57570115e-01,  5.82795879e-05,  5.83554945e-06,\n",
       "          1.47909681e+00,  8.38206346e-06, -2.94052833e-01,  2.30572191e-01,\n",
       "         -7.70013774e-06, -1.19994279e-02,  1.10197259e-03, -5.80703348e-03,\n",
       "         -2.36770172e-01, -2.27594211e-01,  6.08755272e-02,  2.67212211e-03,\n",
       "          7.17846434e-10, -1.92956895e-01, -8.89840539e-02,  5.70178170e-02,\n",
       "         -5.70968365e-05,  2.08000673e-02, -5.96762964e-04, -2.00364779e-01,\n",
       "         -3.52934240e-05,  1.17085984e-04,  9.64315860e-01,  1.31960059e-03,\n",
       "         -2.57117071e-05,  2.56338544e-09,  1.20280864e-02, -1.58619593e-01,\n",
       "          7.28055238e-04,  2.36739508e-02,  1.26850483e-04, -3.29849924e-06,\n",
       "         -2.10141047e-08,  4.57252402e-02, -2.44250212e-02,  5.89059967e-01,\n",
       "         -4.45365663e-02, -1.88286247e-02, -6.69294332e-06, -1.46597647e-02,\n",
       "          2.90457670e-04, -2.66703507e-05, -7.88238428e-09,  2.14583842e-06,\n",
       "         -8.49502249e-02,  6.74998094e-04,  3.44794639e-08,  9.02491877e-03,\n",
       "         -6.21903677e-01, -1.24435062e+00, -3.66947722e-02,  4.05378786e-04,\n",
       "         -1.91578271e-01,  2.14385910e-02,  4.51583862e-02,  2.51428903e-04,\n",
       "         -9.92397329e-01, -2.50792083e-05,  7.96815482e-05, -5.26471460e-02,\n",
       "          2.09148422e-02,  2.88149982e-04,  7.78159963e-10, -1.65333092e-03,\n",
       "         -4.91899119e-01,  7.31984154e-04,  3.61419583e-04,  1.00733477e-02,\n",
       "         -2.09662871e-04,  8.56861398e-03, -5.83782438e-04,  7.96122230e-04,\n",
       "          2.63247374e-02,  4.87318913e-02,  2.99975038e-02,  1.00308881e-02,\n",
       "         -1.15278688e-02, -1.38570369e-02, -4.33091177e-03, -5.69057603e-03,\n",
       "         -2.98783636e-07,  3.12568518e-01, -1.14704134e-11, -9.02690717e-06,\n",
       "          1.80173839e-03,  3.09659921e-08, -4.19409247e-02,  2.09143309e-02,\n",
       "          4.10730163e-02,  4.23457805e-05, -3.76725811e-01, -6.44534627e-01,\n",
       "         -1.25311354e-01,  8.38161251e-04, -3.12586446e-01, -4.62844888e-03,\n",
       "         -1.41432225e-03,  4.89219719e-05,  7.94653929e-02, -2.58534758e-01,\n",
       "         -3.94685074e-04, -5.94982783e-04, -2.81927288e-07, -3.72255660e-02,\n",
       "          2.15942419e-01,  3.27371292e-01, -1.61420347e-01, -2.18251397e-05,\n",
       "         -4.17663391e-01, -4.27515773e-04, -2.43843980e-02,  2.90407177e-03,\n",
       "          1.13575878e-03, -1.36910372e-05,  1.35629422e-01,  6.84705014e-03,\n",
       "         -8.14318518e-07, -9.44130853e-01,  1.00663167e-01, -4.28160188e-01,\n",
       "         -2.40523853e-08, -1.88901369e-01, -2.17408244e-01,  9.35995351e-04,\n",
       "         -3.46701403e-08,  6.44655523e-02,  1.36766650e-06, -7.63409215e-02,\n",
       "         -5.17467670e-01, -1.48991939e-03, -6.55454858e-05, -1.15777758e-01,\n",
       "         -3.92847240e-02,  7.41202438e-05, -1.47167927e-02, -2.15801082e-06,\n",
       "         -3.42482521e-03,  2.58386920e-04,  2.22965298e-01,  9.59105182e-02,\n",
       "          3.60999906e-04,  3.59555250e-01, -4.07778674e-01, -2.55234590e-01,\n",
       "          2.66793218e-06, -1.75186225e-07,  1.08373110e-03, -3.11421230e-01,\n",
       "         -6.12296151e-03, -2.01364825e-03, -1.16443356e-02,  5.37558691e-04,\n",
       "         -2.72057059e-03, -2.26659239e-03,  7.58266499e-02,  7.11508565e-03,\n",
       "         -1.53924135e-03,  4.69739633e-06,  5.04511683e-05, -2.32880130e-01,\n",
       "         -1.01016824e-01, -1.62824260e-03,  1.36009216e-01,  5.72599280e-01,\n",
       "         -9.50022527e-07, -1.21499407e-02, -2.29263425e-01, -2.94859534e-04,\n",
       "          2.09487913e-01,  5.63052532e-03, -1.24904193e-01,  2.73808293e-01,\n",
       "          7.92719986e-01, -1.00816299e-03,  1.72900007e-05,  1.22550728e-08,\n",
       "          7.82007389e-05,  2.44342656e-04,  9.68615928e-01, -7.33030984e-08,\n",
       "         -2.13819010e-06, -3.56915219e-03, -1.31230228e-01,  1.64004123e-03,\n",
       "          5.64037855e-01, -6.55004361e-03,  1.92940355e+00, -1.15921952e-01,\n",
       "          4.12462609e-03,  8.74939097e-03,  1.68146477e-06,  6.75635173e-05,\n",
       "         -1.20432314e-01, -4.53779450e-05, -1.02704047e-08, -6.04560664e-06,\n",
       "          8.44608652e-03, -2.51213301e-04,  3.91371470e-03,  8.87876878e-02,\n",
       "          1.33951774e-03,  4.38140868e-01, -6.47968820e-01, -3.07245284e-02]),\n",
       "  array([ 1.77812261e-02, -5.91152698e-02, -5.02351605e-01,  2.01538558e-04,\n",
       "          1.26253976e-02, -1.42715704e-01, -1.52092824e-05, -1.16500563e-04,\n",
       "          7.48211218e-15,  5.03307408e-02, -2.99332697e-06, -1.56479546e-01,\n",
       "          8.41292976e-02,  2.42447195e-04,  4.23425518e-04,  1.22515348e-05,\n",
       "          2.05165430e-06, -4.78643543e-02,  7.28037464e-03,  8.28124964e-05,\n",
       "          1.58161767e-10, -1.23413683e-05, -5.53810055e-02,  2.85623504e-04,\n",
       "         -2.23494177e-02,  8.76739589e-04,  1.25249440e-05, -3.02006792e-04,\n",
       "          5.73226257e-01, -3.14178384e-02, -2.82953120e-06, -4.25399890e-05,\n",
       "         -2.78448849e-03,  4.53520326e-11, -1.23604293e-06, -2.06375729e-02,\n",
       "         -3.93686096e-11,  3.91409147e-12,  3.87838065e-04, -1.76225976e-04,\n",
       "         -1.77201791e-06, -2.45952204e-02,  2.53738993e-06,  6.01105129e-01,\n",
       "         -1.85020887e-06, -2.10954066e-03,  5.19986346e-08,  4.04001616e-01,\n",
       "          1.35106515e-02,  3.46251257e-11, -3.16135518e-02,  2.91958573e-01,\n",
       "         -2.67327744e-05, -6.60623962e-04, -4.57445561e-01,  4.35306411e-02,\n",
       "          1.77272903e-01,  7.23520520e-06, -2.10552119e-08, -2.11395701e-08,\n",
       "          1.03119204e-02,  1.12490597e-07, -4.03524628e-09, -2.66633346e-06,\n",
       "          5.98727374e-07, -4.63216431e-05, -4.37655947e-01, -3.30295290e-04,\n",
       "         -2.94887892e-03, -5.53673947e-05,  1.18331117e-02, -4.10547686e-01,\n",
       "         -4.07196083e-02,  1.86450921e-04, -1.17600776e-09,  2.08379626e-03,\n",
       "         -1.17651834e-07,  3.72272426e-03,  5.91803937e-01,  3.00287893e-07,\n",
       "         -2.55312851e-05,  8.18626772e-03,  1.16427587e-06, -1.27560308e-01,\n",
       "         -1.11136877e-05, -2.36034060e-11,  1.67958545e-03,  3.81939893e-03,\n",
       "          8.96682052e-10, -3.63397641e-07, -1.96572767e-11,  4.42171558e-02,\n",
       "          4.29296501e-05, -3.11038407e-03,  2.49275356e-04,  3.32537826e-05,\n",
       "         -1.61318282e-01, -8.29236594e-01,  5.45314188e-14,  1.60770497e-01,\n",
       "          2.63693518e-05, -1.04628319e-01, -3.83391863e-06,  4.74184793e-03,\n",
       "         -8.35274446e-03, -4.64640138e-07,  2.91235306e-01, -2.15346412e-09,\n",
       "         -3.82730356e-03, -3.34986808e-03,  3.79764003e-03, -1.46293394e-01,\n",
       "          2.84965337e-05, -2.91469045e-02, -1.26515117e-05, -7.49089444e-04,\n",
       "          2.65592953e-09,  5.32303825e-05,  1.47475819e-06,  2.65060492e-02,\n",
       "         -2.58470738e-10,  5.81896489e-02, -2.80147913e-01, -2.14447375e-02,\n",
       "         -5.50108319e-06, -2.56293069e-01,  7.77871920e-04, -2.74355355e-04,\n",
       "         -1.00948416e-07,  6.93717952e-03, -9.67441608e-07, -6.30875260e-04,\n",
       "         -3.84497051e-02, -8.12176985e-06,  7.97718619e-04,  4.30827261e-07,\n",
       "          2.74130767e-06, -6.28968022e-02,  1.51427700e-04,  1.26207820e-03,\n",
       "         -2.08109521e-01, -1.40951742e-10,  1.28146517e-03,  1.78243309e-04,\n",
       "          2.83090873e-01, -3.81658720e-07,  5.14376207e-04,  4.05049738e-02,\n",
       "          2.39770583e-01, -9.39074752e-11, -7.51179164e-06,  1.81854766e-01,\n",
       "          9.37103121e-02, -2.04171466e-01,  1.04764105e-11, -1.00989358e-07,\n",
       "         -8.49527379e-03,  1.18880848e-06,  4.68818146e-01,  1.71595444e-02,\n",
       "         -3.53749342e-04,  5.97048149e-03, -9.38953867e-03, -1.75526990e-04,\n",
       "          4.55429211e-04, -9.56367251e-08,  1.83625518e-04, -1.92784054e-04,\n",
       "          4.56318947e-01, -4.20062105e-02, -5.36948055e-04, -9.61224686e-02,\n",
       "          1.63014579e-02,  1.14881969e-03,  1.27247021e-03,  4.97271866e-04,\n",
       "         -1.44643579e-07,  1.30351748e+00,  2.78378172e-02, -6.14672677e-05,\n",
       "          5.12984831e-08,  3.69808588e-01,  3.04956832e-10, -1.77351243e-01,\n",
       "          2.75920809e-07,  3.41169747e-05,  1.10279189e-01, -7.53409221e-03,\n",
       "          8.85806453e-04,  4.12128356e-02, -1.82041306e-01, -4.69862765e-05,\n",
       "         -1.36440744e-01,  5.17561242e-01,  1.85523599e-03, -2.70338618e-14,\n",
       "          9.63080622e-05,  7.52715891e-03,  1.10141907e-03, -1.06798602e-05,\n",
       "          1.45232939e-07,  2.11074041e-05,  1.82430477e-03, -4.75572525e-01,\n",
       "          1.08633594e-06, -7.17660499e-05, -4.04336507e-03, -5.57493178e-02,\n",
       "         -3.62682664e-09, -2.10764882e-07,  1.00377454e-03, -5.33864655e-03,\n",
       "          7.87205758e-03,  4.46767075e-04, -1.09798694e-07, -4.03986123e-08,\n",
       "          3.43114589e-05,  3.19278810e-06,  1.80328230e-04,  9.13574955e-03,\n",
       "         -1.02895901e-05, -1.64936716e-03, -3.41729465e-05,  3.65857955e-05,\n",
       "         -4.13574559e-03,  2.75871790e-02,  6.39287241e-02,  5.55501863e-04,\n",
       "          1.80057793e-08, -1.66865474e-04, -1.22803084e-04,  7.17396601e-02,\n",
       "         -1.21431788e-06,  3.64861222e-05,  1.07213590e-01, -3.63526151e-05,\n",
       "         -2.42369628e-05, -5.13581700e-05,  2.12732282e-03, -8.93170910e-04,\n",
       "          5.48025726e-12, -5.70030216e-01,  3.47409964e-01,  2.35818898e-02,\n",
       "         -2.81489301e-03,  2.20489323e-03,  4.11392320e-04,  1.17868022e-10,\n",
       "          1.23789134e-05, -3.81071119e-07,  5.21452133e-05,  4.36872123e-09,\n",
       "         -2.71436344e-04,  6.72831557e-09, -6.99606783e-05, -1.25030746e-04,\n",
       "          6.83477140e-02,  1.66479496e-06, -6.87502003e-13,  7.49180658e-06,\n",
       "          2.42457641e-07, -1.21123288e-01,  2.01714857e-04,  6.53482363e-03,\n",
       "         -2.95984202e-09, -2.36077108e-05, -8.43149470e-11, -3.43809968e-08,\n",
       "          7.13242685e-03, -2.71070774e-01,  9.10774481e-06, -4.88153872e-07,\n",
       "         -3.34952702e-04,  2.12939247e-03,  1.59214245e-04, -5.36933747e-04,\n",
       "         -1.26537256e-04,  2.63529529e-01,  3.43692134e-03,  1.56555351e-02,\n",
       "         -1.47241336e-04, -1.84784379e-06,  7.93993854e-01,  7.21045084e-06,\n",
       "         -8.01727967e-03,  6.17622841e-04, -3.13827272e-10,  2.87614233e-03,\n",
       "          2.60008378e-10,  9.89164114e-09,  3.41072469e-04, -5.18027949e-05,\n",
       "          4.95683550e-04, -1.48555303e-04,  4.97518972e-03,  4.43677305e-11,\n",
       "          1.33230455e-01,  1.37396957e-08, -7.46576327e-02, -3.24558110e-03]),\n",
       "  array([ 2.21036258e-12,  9.99992076e-01,  2.75423968e-05,  9.99999978e-01,\n",
       "          3.56858036e-05, -9.87968011e-01,  5.13097837e-01,  2.09335755e-01,\n",
       "          9.99954825e-01,  3.98788211e-04])])"
      ]
     },
     "execution_count": 8,
     "metadata": {},
     "output_type": "execute_result"
    }
   ],
   "source": [
    "dweights, dbiases = net.propagate_backwards(test_labels[0], test_images[0])"
   ]
  },
  {
   "cell_type": "code",
   "execution_count": null,
   "metadata": {},
   "outputs": [],
   "source": []
  }
 ],
 "metadata": {
  "kernelspec": {
   "display_name": "base",
   "language": "python",
   "name": "python3"
  },
  "language_info": {
   "codemirror_mode": {
    "name": "ipython",
    "version": 3
   },
   "file_extension": ".py",
   "mimetype": "text/x-python",
   "name": "python",
   "nbconvert_exporter": "python",
   "pygments_lexer": "ipython3",
   "version": "3.11.7"
  }
 },
 "nbformat": 4,
 "nbformat_minor": 4
}
