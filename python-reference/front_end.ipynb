{
 "cells": [
  {
   "cell_type": "code",
   "execution_count": 1,
   "metadata": {
    "ExecuteTime": {
     "end_time": "2024-10-09T20:50:01.013447Z",
     "start_time": "2024-10-09T20:49:59.690411Z"
    }
   },
   "outputs": [],
   "source": [
    "import numpy as np\n",
    "from sklearn.datasets import fetch_openml\n",
    "import matplotlib.pyplot as plt\n",
    "from implementation import NeuralNet\n",
    "np.random.seed(0)"
   ]
  },
  {
   "cell_type": "code",
   "execution_count": 2,
   "metadata": {
    "ExecuteTime": {
     "end_time": "2024-10-09T20:50:01.018623Z",
     "start_time": "2024-10-09T20:50:01.016468Z"
    },
    "scrolled": true
   },
   "outputs": [],
   "source": [
    "#for input from CSV file.\n",
    "# data = np.genfromtxt(\"../data/train.csv\", delimiter=\",\", skip_header=1, dtype=int)\n",
    "# labels = data[:,0]\n",
    "# images = data[:,1:]/255\n",
    "\n",
    "# length = int(len(labels)*.9) #Train on the first 90%. Test on 10%\n",
    "# training_labels, test_labels = labels[:length], labels[length:]\n",
    "# training_images, test_images = images[:length], images[length:]"
   ]
  },
  {
   "cell_type": "code",
   "execution_count": 3,
   "metadata": {
    "ExecuteTime": {
     "end_time": "2024-10-09T20:50:03.608464Z",
     "start_time": "2024-10-09T20:50:01.134403Z"
    }
   },
   "outputs": [],
   "source": [
    "#for input from directly fetching mnist\n",
    "mnist = fetch_openml('mnist_784', as_frame=False)\n",
    "labels = mnist.target.astype(int)\n",
    "images = mnist.data/255\n",
    "\n",
    "length = 60_000 #Train on 60k, test on 10k\n",
    "training_labels, test_labels = labels[:length], labels[length:]\n",
    "training_images, test_images = images[:length], images[length:]"
   ]
  },
  {
   "cell_type": "code",
   "execution_count": 4,
   "metadata": {
    "ExecuteTime": {
     "end_time": "2024-10-09T20:50:03.710996Z",
     "start_time": "2024-10-09T20:50:03.623601Z"
    }
   },
   "outputs": [
    {
     "data": {
      "image/png": "[encoded data removed]",
      "text/plain": [
       "<Figure size 640x480 with 1 Axes>"
      ]
     },
     "metadata": {},
     "output_type": "display_data"
    }
   ],
   "source": [
    "def plot_image(i):\n",
    "    plt.imshow(images[i,:].reshape(28,28), cmap=\"gray\")\n",
    "    plt.title(labels[i])\n",
    "    plt.show()\n",
    "plot_image(0)"
   ]
  },
  {
   "cell_type": "code",
   "execution_count": 5,
   "metadata": {
    "ExecuteTime": {
     "end_time": "2024-10-09T20:50:04.225874Z",
     "start_time": "2024-10-09T20:50:03.721514Z"
    }
   },
   "outputs": [
    {
     "data": {
      "text/plain": [
       "0.1113"
      ]
     },
     "execution_count": 5,
     "metadata": {},
     "output_type": "execute_result"
    }
   ],
   "source": [
    "net = NeuralNet([784, 300, 300, 10])\n",
    "net.evaluate((test_labels, test_images))"
   ]
  },
  {
   "cell_type": "code",
   "execution_count": 6,
   "metadata": {
    "ExecuteTime": {
     "end_time": "2024-10-09T20:52:09.577864Z",
     "start_time": "2024-10-09T20:50:04.304416Z"
    }
   },
   "outputs": [
    {
     "name": "stdout",
     "output_type": "stream",
     "text": [
      "CPU times: total: 1min 7s\n",
      "Wall time: 2min 26s\n"
     ]
    },
    {
     "data": {
      "text/plain": [
       "0.9108"
      ]
     },
     "execution_count": 6,
     "metadata": {},
     "output_type": "execute_result"
    }
   ],
   "source": [
    "%%time\n",
    "net.train(training_data=(training_labels, training_images), iterations=1, batch_size=10, learning_rate=0.1)\n",
    "net.evaluate((test_labels, test_images))"
   ]
  },
  {
   "cell_type": "code",
   "execution_count": 7,
   "metadata": {
    "ExecuteTime": {
     "end_time": "2024-10-09T22:52:42.647330Z",
     "start_time": "2024-10-09T22:52:42.349538Z"
    }
   },
   "outputs": [
    {
     "name": "stdout",
     "output_type": "stream",
     "text": [
      "(300,)\n",
      "(300,)\n",
      "(10,)\n",
      "(300, 784)\n",
      "(300, 300)\n",
      "(10, 300)\n",
      "[array([ 1.76629439,  0.47306945,  0.91440738,  2.32049923,  1.81846695,\n",
      "       -0.80777031,  0.93828552, -0.25669725, -0.29903029,  0.35146054,\n",
      "        0.24417596,  1.40878151,  0.82351787,  0.028157  ,  0.45559881,\n",
      "        0.50634546,  1.45563657, -0.1075835 ,  0.17101032, -0.75184825,\n",
      "       -2.63175385,  0.64878554,  0.79479579, -0.78308583,  2.14172406,\n",
      "       -1.37255494, -0.01468248, -0.11038151,  1.60174669,  1.42795078,\n",
      "       -0.02675311,  0.47799506, -0.96483765, -2.01408906, -0.23546645,\n",
      "        0.45453675,  1.15860794,  1.30013574, -0.49805977, -0.46558141,\n",
      "       -1.14665628, -1.21105101, -1.68231557,  2.05216709, -0.57970892,\n",
      "       -0.72907187, -1.2315477 ,  0.79762656, -1.72130791, -0.11070928,\n",
      "       -1.01927399,  0.34101137, -0.54190321, -1.21388599,  0.029156  ,\n",
      "        0.41930139,  0.07925238,  0.15692315, -0.81226498, -0.2017422 ,\n",
      "       -0.85844819, -0.33479189, -0.84552639, -1.64376795,  0.0700952 ,\n",
      "       -0.40730228, -1.64073624,  0.44489243, -0.98086434,  0.16898887,\n",
      "        0.42997547,  0.04554635,  1.04445357, -1.30179133,  0.6316385 ,\n",
      "       -0.85651748, -0.78249142, -0.65263596, -0.39286136, -0.1268384 ,\n",
      "       -1.10634595,  0.73665834,  0.59060277, -1.48080638,  1.48781386,\n",
      "        2.01133189,  1.06886535, -0.22138383, -1.09266245,  1.08445299,\n",
      "       -0.41640818,  1.23958137,  0.10893004,  1.11633089,  0.3174528 ,\n",
      "        0.9327335 , -0.12124171,  1.89441587,  0.03775808,  0.28079486,\n",
      "        1.76081699, -1.43657986, -1.39273347,  1.0637359 , -1.09486676,\n",
      "        2.01520624, -0.41309246, -0.59078797,  2.01180724,  1.52653382,\n",
      "        1.85438742,  1.04666533, -0.73003531,  1.92139546, -0.22918035,\n",
      "        0.58927112,  0.97308976, -0.09522989,  0.6134432 ,  0.64251638,\n",
      "        0.39505474, -1.21156755,  0.1876663 ,  1.30671069, -0.74813612,\n",
      "       -0.06959744, -0.71691453,  1.91751981,  0.58850575,  0.36800966,\n",
      "       -0.81734307,  0.61669602, -0.83283133,  0.1430274 , -0.74314175,\n",
      "        0.67178227,  0.83438253, -0.21888067,  0.46106823, -1.11866957,\n",
      "       -1.32268919,  0.39174563,  0.11755572,  0.69204085,  2.36858895,\n",
      "        1.19666421, -0.77105864,  1.16155385, -1.32303092, -0.54433207,\n",
      "        0.00917026,  1.82982527, -0.83349452, -0.65377403, -0.10388428,\n",
      "       -0.77656438,  1.15945055, -1.03218605, -1.35462898, -0.34221899,\n",
      "       -0.505415  ,  1.89343403,  1.05374627,  0.17569422, -1.01896681,\n",
      "        0.88034306, -0.86836763, -1.52220025,  1.01982424,  0.16704639,\n",
      "        1.00667352,  0.52474853,  0.66683762, -0.78812945, -0.94422532,\n",
      "        0.70394528, -0.71207751, -0.88068568, -0.59150842,  0.29368206,\n",
      "       -0.3198645 , -1.29026761, -0.67976982, -2.32526274,  0.57775966,\n",
      "       -1.5608652 , -0.96512345,  0.14804159, -0.66404075,  1.59740528,\n",
      "       -1.46287581,  0.42765965, -0.04662714, -1.14225195,  0.68594424,\n",
      "       -0.27255519,  0.85917895,  0.93340491,  2.17029643,  1.39209263,\n",
      "       -0.22948696, -0.14137486,  1.02190324,  0.7888337 ,  0.78170005,\n",
      "       -1.57593566,  0.05467887, -0.56762129,  0.350657  , -0.06969746,\n",
      "        0.92323325,  0.1943505 ,  0.76162328, -0.39789307, -0.99369763,\n",
      "       -0.39399845,  0.06474961,  0.50100981,  2.24723616,  0.10108126,\n",
      "       -0.99264479, -0.40531151, -0.64773853,  0.33908385, -1.42396699,\n",
      "        0.18545967,  0.00755818,  0.18260948, -0.55892897, -0.0928785 ,\n",
      "       -1.10606253, -0.68971792, -0.43100322,  0.54489561, -1.05579257,\n",
      "        0.6785699 ,  1.71008745, -1.99765388,  0.41620189,  0.62364279,\n",
      "       -0.55839888, -0.30565519,  0.06748593, -0.19342311, -0.43344903,\n",
      "       -1.70650098,  1.04201333,  1.00264412, -0.70552465, -1.41531921,\n",
      "        0.56398637, -0.62135623,  0.12558461, -0.22881592,  0.83162765,\n",
      "        0.67081362, -0.89488729, -1.52676236, -1.46801361,  0.57424372,\n",
      "       -1.20189111, -0.53508612, -0.65222089,  0.11781269, -1.87590384,\n",
      "        0.15144482,  0.29485325,  0.06943379, -0.3646476 , -0.05850035,\n",
      "        0.37879059, -2.69344906,  1.95498046,  0.29000201, -0.64597897,\n",
      "       -0.18544873,  0.64580175,  0.03161521, -1.9552614 ,  2.11693737,\n",
      "       -0.01882342,  1.01260567, -0.8367135 ,  1.51053391,  0.28941915,\n",
      "        0.59796391, -0.83724471,  1.37839702,  0.79245475,  1.24703186,\n",
      "       -0.66703726, -0.48249877,  2.30377249, -0.85058965, -0.04896031,\n",
      "        1.26030149,  0.21344354,  0.69254129, -0.48415925,  0.227128  ]), array([-1.16881698,  1.74260032, -0.07249677, -0.55591729,  0.66596318,\n",
      "       -0.37091053, -1.32117786, -1.40047579,  0.68863245, -0.20065113,\n",
      "       -0.0657449 ,  0.94306178, -1.25817379, -0.77864581, -0.49953058,\n",
      "        0.03010915,  0.00838036, -0.29126296, -0.10796772, -0.16267701,\n",
      "       -0.80661145, -0.82661599,  0.29300021, -0.94464948, -1.05604792,\n",
      "       -0.46320251, -0.19909829,  2.14365473, -0.79407708,  0.89354082,\n",
      "        0.75741172, -1.06616471,  0.71921192, -1.23056457, -2.64228876,\n",
      "        0.56429627, -1.78194236,  0.46974467, -0.56656034,  1.61961639,\n",
      "        1.12692026, -0.40801859, -0.71458832, -1.33128171, -0.4297025 ,\n",
      "       -0.17658516, -0.35232745,  0.22470951,  0.4694483 ,  0.39140753,\n",
      "       -0.80384064, -1.4177784 ,  1.47682173, -0.720821  , -0.65636402,\n",
      "       -0.48606733, -1.77001608, -0.55252535, -0.46418801,  0.60729268,\n",
      "        0.63791927,  0.01583031,  0.8883785 ,  0.36065338,  0.00963687,\n",
      "        0.15053207, -0.24316402, -0.41148536, -0.38801622, -1.30087887,\n",
      "        0.2970774 , -1.09057303,  0.74481794, -0.30004482,  0.05001077,\n",
      "        0.53808437,  0.63501149, -1.68850669, -0.1624401 ,  0.79607041,\n",
      "       -1.74675375,  0.3188088 , -2.30486528, -1.10455336, -0.04110611,\n",
      "       -1.7542384 , -1.05516642, -1.4891691 ,  1.68401281,  0.12664513,\n",
      "        0.5262661 , -0.33529347, -0.3268031 , -1.71550234, -0.40680208,\n",
      "       -0.69674355,  0.74484274,  1.12553443,  1.51005808,  0.91649024,\n",
      "       -0.53043091, -1.02965697,  0.69574434,  0.28921951, -1.82402741,\n",
      "        0.25827861,  0.80899211,  0.06017438, -0.10639328, -0.87792226,\n",
      "       -1.37380906,  0.74608559, -0.2993368 , -0.18952227,  1.72293153,\n",
      "        0.57781633,  0.37046008,  0.0901408 ,  1.46123431,  1.77130187,\n",
      "        0.9298098 ,  0.66628381, -2.09492303,  0.07263993, -0.10195653,\n",
      "        0.09617471,  0.90201071, -2.79637158, -0.54675046,  0.35368526,\n",
      "       -0.57248833, -1.34213084,  0.78461148,  0.26617818, -0.89355134,\n",
      "        0.3400739 ,  0.75640072,  0.07281917,  0.86150782,  0.03126281,\n",
      "       -0.41312031, -1.17664468, -0.00647172,  0.208082  ,  0.88960936,\n",
      "       -0.10948283,  0.41391187, -1.00987688, -0.86713537, -0.13335671,\n",
      "       -1.04361807,  0.77933566,  0.48568852,  0.35746916,  0.27740393,\n",
      "        2.08871384, -0.39905424, -2.22434914,  0.11351948,  0.05616557,\n",
      "       -0.56714735, -1.02103258, -0.49314476,  0.12210279, -0.51836489,\n",
      "        2.41225789, -0.85058179, -0.68024537, -2.334311  ,  0.21821244,\n",
      "       -1.89074645, -0.51885314, -0.24297426, -0.78354524,  1.68783755,\n",
      "        0.90193998,  1.19200242, -1.00919086,  1.11558911,  0.58852653,\n",
      "        0.81976315,  1.01661655, -0.86317079, -0.44760808,  0.92662882,\n",
      "       -2.66854532,  1.53870905,  0.71424952, -0.05845773,  0.12671649,\n",
      "       -1.07311855, -0.39320232,  1.07862913,  1.20172834,  2.73003309,\n",
      "       -0.07458952, -0.54339044, -0.55797434, -1.02885839, -0.05551922,\n",
      "        0.34468375, -0.04451375,  1.16145077, -0.11092848, -0.28269848,\n",
      "       -0.63058024, -1.7050579 , -1.51536594, -1.23651589,  1.33823051,\n",
      "        0.86164262,  1.25034124, -1.39963671, -1.87684034, -0.65377767,\n",
      "        0.0450451 ,  0.51122277,  0.98731063,  0.3589487 ,  1.73069094,\n",
      "       -0.16309312, -1.05819439, -1.73799418, -1.01079387,  0.22385067,\n",
      "       -0.91268609,  0.84213844,  1.3985971 , -2.42301881,  0.77237467,\n",
      "       -2.32936928,  0.41101438,  1.27082454,  0.09749954, -1.35917606,\n",
      "       -0.57620181, -0.23567188, -0.25839445, -0.10936323, -0.11600833,\n",
      "        0.25574379, -1.19937053, -0.21994751,  1.49518898, -0.54183299,\n",
      "       -0.49388669,  1.00762892, -2.56551361,  1.15567922, -0.72296633,\n",
      "        0.26055938,  0.09983904,  0.90428212, -0.25434544, -0.566842  ,\n",
      "        1.38618647, -2.29726879,  0.03243614, -1.3338321 , -0.81787213,\n",
      "        2.04024412, -0.06386496,  0.24870648, -1.82755548, -0.78134527,\n",
      "        0.17256227,  0.34715473,  0.51189082, -0.05535661,  0.52504098,\n",
      "        0.49441541, -1.73905466, -0.08504427,  0.67126914,  0.59065871,\n",
      "       -0.37903541, -0.70794446, -1.00621858, -0.02699705,  1.06957888,\n",
      "       -2.03897378, -0.56825261, -1.25946057,  0.75736654, -0.63708864,\n",
      "       -0.54731595, -0.22783084,  0.35673086, -0.3431616 , -3.02927275,\n",
      "        0.53159092,  0.44383705, -0.14383095, -1.06580379,  0.41878879,\n",
      "        0.44566991, -0.45974987, -0.22379868, -0.99377426, -0.31301854]), array([-1.55525156,  0.25624156, -1.00093143, -0.02948604, -1.35506357,\n",
      "       -0.63674955, -0.25938376, -1.70227369, -0.00891987, -0.3965265 ])]\n",
      "[array([[-1.7423562 , -1.30324275,  0.60512008, ..., -0.50723446,\n",
      "         0.15466883,  1.04156839],\n",
      "       [-0.03926799, -0.94893281,  0.13191176, ...,  1.07993122,\n",
      "         1.09416699, -1.09424095],\n",
      "       [-0.14763741,  1.13181196, -1.68472896, ...,  0.49585067,\n",
      "        -1.32052535,  0.49908428],\n",
      "       ...,\n",
      "       [ 0.05393777,  0.07724598, -1.25129419, ...,  0.61220456,\n",
      "         0.15260867, -0.53568495],\n",
      "       [-0.38249925,  1.49996947,  2.34577633, ...,  1.13359402,\n",
      "        -0.40891061, -1.46857863],\n",
      "       [ 0.07860566, -0.25440332,  0.23969267, ..., -0.45201569,\n",
      "         0.48150402,  0.89559864]]), array([[ 0.88056145,  1.5501608 ,  2.73463727, ..., -0.17376668,\n",
      "        -0.75756471,  0.05157299],\n",
      "       [-0.51822012,  0.76387179,  0.27855747, ...,  0.02812192,\n",
      "        -0.82529739, -1.38253895],\n",
      "       [-0.83194826, -1.45644372,  0.654974  , ...,  1.04806526,\n",
      "         0.06351461, -1.23072365],\n",
      "       ...,\n",
      "       [ 1.09861455,  1.10698293,  0.7949771 , ...,  1.40957649,\n",
      "         1.015304  , -0.43859984],\n",
      "       [-1.34571514,  0.88624615, -1.67051068, ..., -0.91987748,\n",
      "         0.47573384,  0.29107808],\n",
      "       [-0.46267109, -0.74687176, -0.61613793, ...,  0.54796001,\n",
      "        -0.06498845, -0.36166667]]), array([[ 0.79511057, -1.35984675,  0.8951157 , ...,  0.09037859,\n",
      "        -1.727832  , -0.80473783],\n",
      "       [-0.11806517, -0.31618475, -0.86353442, ..., -0.02882367,\n",
      "         0.95367859, -0.0332632 ],\n",
      "       [ 1.95207506, -0.32169506,  0.27310555, ...,  0.52088046,\n",
      "         0.35468827,  1.59251032],\n",
      "       ...,\n",
      "       [-0.37871042, -0.59210868, -0.74742315, ..., -0.36270112,\n",
      "        -0.63291287, -0.25025505],\n",
      "       [ 0.54262061, -0.16648532, -0.85168872, ..., -0.48207325,\n",
      "         0.55134151, -0.77946428],\n",
      "       [ 1.25096682, -1.675361  , -0.97882419, ...,  0.12361464,\n",
      "        -1.04317104, -0.49230052]])]\n"
     ]
    }
   ],
   "source": [
    "# net.export_csv()\n",
    "import pandas as pd\n",
    "print(np.shape(net.biases[0]))\n",
    "print(np.shape(net.biases[1]))\n",
    "print(np.shape(net.biases[2]))\n",
    "\n",
    "print(np.shape(net.weights[0]))\n",
    "print(np.shape(net.weights[1]))\n",
    "print(np.shape(net.weights[2]))\n",
    "\n",
    "def export_csv(net):\n",
    "    print(net.biases)\n",
    "    df_biases_a1 = pd.DataFrame(net.biases[0])\n",
    "    df_biases_a2 = pd.DataFrame(net.biases[1])\n",
    "    df_biases_o = pd.DataFrame(net.biases[2])\n",
    "    print(net.weights)\n",
    "    df_weight_a1 = pd.DataFrame(net.weights[0])\n",
    "    df_weight_a2 = pd.DataFrame(net.weights[1])\n",
    "    df_weight_o = pd.DataFrame(net.weights[2])\n",
    "\n",
    "    df_biases_a1.to_csv('../data/biases_a1.csv', index=False)\n",
    "    df_biases_a2.to_csv('../data/biases_a2.csv' , index=False)\n",
    "    df_biases_o.to_csv('../data/biases_o.csv', index=False)\n",
    "\n",
    "    df_weight_a1.to_csv('../data/weights_a1.csv', index=False)\n",
    "    df_weight_a2.to_csv('../data/weights_a2.csv', index=False)\n",
    "    df_weight_o.to_csv('../data/weights_o.csv', index=False)\n",
    "    return\n",
    "\n",
    "export_csv(net)"
   ]
  },
  {
   "cell_type": "code",
   "execution_count": null,
   "metadata": {},
   "outputs": [],
   "source": []
  }
 ],
 "metadata": {
  "kernelspec": {
   "display_name": "base",
   "language": "python",
   "name": "python3"
  },
  "language_info": {
   "codemirror_mode": {
    "name": "ipython",
    "version": 3
   },
   "file_extension": ".py",
   "mimetype": "text/x-python",
   "name": "python",
   "nbconvert_exporter": "python",
   "pygments_lexer": "ipython3",
   "version": "3.12.4"
  }
 },
 "nbformat": 4,
 "nbformat_minor": 4
}
