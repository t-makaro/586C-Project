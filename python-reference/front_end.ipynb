{
 "cells": [
  {
   "cell_type": "code",
   "execution_count": 1,
   "metadata": {
    "ExecuteTime": {
     "end_time": "2024-10-09T20:50:01.013447Z",
     "start_time": "2024-10-09T20:49:59.690411Z"
    }
   },
   "outputs": [],
   "source": [
    "import numpy as np\n",
    "from sklearn.datasets import fetch_openml\n",
    "import matplotlib.pyplot as plt\n",
    "from implementation import NeuralNet\n",
    "import pandas as pd\n",
    "np.random.seed(0)"
   ]
  },
  {
   "cell_type": "code",
   "execution_count": 2,
   "metadata": {
    "ExecuteTime": {
     "end_time": "2024-10-09T20:50:01.018623Z",
     "start_time": "2024-10-09T20:50:01.016468Z"
    },
    "scrolled": true
   },
   "outputs": [],
   "source": [
    "#for input from CSV file.\n",
    "# data = np.genfromtxt(\"../data/train.csv\", delimiter=\",\", skip_header=1, dtype=int)\n",
    "# labels = data[:,0]\n",
    "# images = data[:,1:]/255\n",
    "\n",
    "# length = int(len(labels)*.9) #Train on the first 90%. Test on 10%\n",
    "# training_labels, test_labels = labels[:length], labels[length:]\n",
    "# training_images, test_images = images[:length], images[length:]"
   ]
  },
  {
   "cell_type": "code",
   "execution_count": 3,
   "metadata": {
    "ExecuteTime": {
     "end_time": "2024-10-09T20:50:03.608464Z",
     "start_time": "2024-10-09T20:50:01.134403Z"
    }
   },
   "outputs": [
    {
     "name": "stderr",
     "output_type": "stream",
     "text": [
      "c:\\Users\\TMOko\\anaconda3\\Lib\\site-packages\\sklearn\\datasets\\_openml.py:968: FutureWarning: The default value of `parser` will change from `'liac-arff'` to `'auto'` in 1.4. You can set `parser='auto'` to silence this warning. Therefore, an `ImportError` will be raised from 1.4 if the dataset is dense and pandas is not installed. Note that the pandas parser may return different data types. See the Notes Section in fetch_openml's API doc for details.\n",
      "  warn(\n"
     ]
    }
   ],
   "source": [
    "#for input from directly fetching mnist\n",
    "mnist = fetch_openml('mnist_784', as_frame=False)\n",
    "labels = mnist.target.astype(int)\n",
    "images = mnist.data/255\n",
    "\n",
    "length = 60_000 #Train on 60k, test on 10k\n",
    "training_labels, test_labels = labels[:length], labels[length:]\n",
    "training_images, test_images = images[:length], images[length:]"
   ]
  },
  {
   "cell_type": "code",
   "execution_count": 4,
   "metadata": {
    "ExecuteTime": {
     "end_time": "2024-10-09T20:50:03.710996Z",
     "start_time": "2024-10-09T20:50:03.623601Z"
    }
   },
   "outputs": [
    {
     "data": {
      "image/png": "[encoded data removed]",
      "text/plain": [
       "<Figure size 640x480 with 1 Axes>"
      ]
     },
     "metadata": {},
     "output_type": "display_data"
    }
   ],
   "source": [
    "def export_csv(net, ext=\"\"):\n",
    "    df_biases_a1 = pd.DataFrame(net.biases[0])\n",
    "    df_biases_a2 = pd.DataFrame(net.biases[1])\n",
    "    df_biases_o = pd.DataFrame(net.biases[2])\n",
    "    \n",
    "    df_weight_a1 = pd.DataFrame(net.weights[0])\n",
    "    df_weight_a2 = pd.DataFrame(net.weights[1])\n",
    "    df_weight_o = pd.DataFrame(net.weights[2])\n",
    "\n",
    "    df_biases_a1.to_csv(f'../data/biases_a1{ext}.csv', index=False)\n",
    "    df_biases_a2.to_csv(f'../data/biases_a2{ext}.csv' , index=False)\n",
    "    df_biases_o.to_csv(f'../data/biases_o{ext}.csv', index=False)\n",
    "\n",
    "    df_weight_a1.to_csv(f'../data/weights_a1{ext}.csv', index=False)\n",
    "    df_weight_a2.to_csv(f'../data/weights_a2{ext}.csv', index=False)\n",
    "    df_weight_o.to_csv(f'../data/weights_o{ext}.csv', index=False)\n",
    "\n",
    "def plot_image(i):\n",
    "    plt.imshow(images[i,:].reshape(28,28), cmap=\"gray\")\n",
    "    plt.title(labels[i])\n",
    "    plt.show()\n",
    "plot_image(0)"
   ]
  },
  {
   "cell_type": "code",
   "execution_count": 5,
   "metadata": {
    "ExecuteTime": {
     "end_time": "2024-10-09T20:50:04.225874Z",
     "start_time": "2024-10-09T20:50:03.721514Z"
    }
   },
   "outputs": [
    {
     "name": "stdout",
     "output_type": "stream",
     "text": [
      "(300,)\n",
      "(300,)\n",
      "(10,)\n",
      "(300, 784)\n",
      "(300, 300)\n",
      "(10, 300)\n"
     ]
    },
    {
     "data": {
      "text/plain": [
       "0.1113"
      ]
     },
     "execution_count": 5,
     "metadata": {},
     "output_type": "execute_result"
    }
   ],
   "source": [
    "net = NeuralNet([784, 300, 300, 10])\n",
    "print(np.shape(net.biases[0]))\n",
    "print(np.shape(net.biases[1]))\n",
    "print(np.shape(net.biases[2]))\n",
    "\n",
    "print(np.shape(net.weights[0]))\n",
    "print(np.shape(net.weights[1]))\n",
    "print(np.shape(net.weights[2]))\n",
    "export_csv(net, \"_init\")"
   ]
  },
  {
   "cell_type": "code",
   "execution_count": null,
   "metadata": {},
   "outputs": [],
   "source": [
    "%%time\n",
    "#Evaluate the model before training\n",
    "net.evaluate((test_labels, test_images))"
   ]
  },
  {
   "cell_type": "code",
   "execution_count": 6,
   "metadata": {
    "ExecuteTime": {
     "end_time": "2024-10-09T20:52:09.577864Z",
     "start_time": "2024-10-09T20:50:04.304416Z"
    }
   },
   "outputs": [
    {
     "name": "stdout",
     "output_type": "stream",
     "text": [
      "CPU times: total: 1min 27s\n",
      "Wall time: 1min 31s\n"
     ]
    },
    {
     "data": {
      "text/plain": [
       "0.9108"
      ]
     },
     "execution_count": 6,
     "metadata": {},
     "output_type": "execute_result"
    }
   ],
   "source": [
    "%%time\n",
    "net.train(training_data=(training_labels, training_images), iterations=1, batch_size=10, learning_rate=0.1)\n",
    "net.evaluate((test_labels, test_images))"
   ]
  },
  {
   "cell_type": "code",
   "execution_count": 7,
   "metadata": {
    "ExecuteTime": {
     "end_time": "2024-10-09T22:52:42.647330Z",
     "start_time": "2024-10-09T22:52:42.349538Z"
    }
   },
   "outputs": [],
   "source": [
    "#export final weights and biases for use elsewhere\n",
    "export_csv(net)"
   ]
  },
  {
   "cell_type": "code",
   "execution_count": null,
   "metadata": {},
   "outputs": [],
   "source": []
  }
 ],
 "metadata": {
  "kernelspec": {
   "display_name": "base",
   "language": "python",
   "name": "python3"
  },
  "language_info": {
   "codemirror_mode": {
    "name": "ipython",
    "version": 3
   },
   "file_extension": ".py",
   "mimetype": "text/x-python",
   "name": "python",
   "nbconvert_exporter": "python",
   "pygments_lexer": "ipython3",
   "version": "3.11.7"
  }
 },
 "nbformat": 4,
 "nbformat_minor": 4
}
