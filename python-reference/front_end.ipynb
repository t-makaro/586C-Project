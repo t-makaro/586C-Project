{
 "cells": [
  {
   "cell_type": "code",
   "metadata": {
    "ExecuteTime": {
     "end_time": "2024-11-01T01:03:17.975067Z",
     "start_time": "2024-11-01T01:03:17.093432Z"
    }
   },
   "source": [
    "import numpy as np\n",
    "from sklearn.datasets import fetch_openml\n",
    "import matplotlib.pyplot as plt\n",
    "from implementation import NeuralNet\n",
    "import pandas as pd\n",
    "np.random.seed(0)"
   ],
   "outputs": [],
   "execution_count": 1
  },
  {
   "cell_type": "code",
   "metadata": {
    "scrolled": true,
    "ExecuteTime": {
     "end_time": "2024-11-01T01:03:17.980494Z",
     "start_time": "2024-11-01T01:03:17.978075Z"
    }
   },
   "source": [
    "#for input from CSV file.\n",
    "# data = np.genfromtxt(\"../data/train.csv\", delimiter=\",\", skip_header=1, dtype=int)\n",
    "# labels = data[:,0]\n",
    "# images = data[:,1:]/255\n",
    "\n",
    "# length = int(len(labels)*.9) #Train on the first 90%. Test on 10%\n",
    "# training_labels, test_labels = labels[:length], labels[length:]\n",
    "# training_images, test_images = images[:length], images[length:]"
   ],
   "outputs": [],
   "execution_count": 2
  },
  {
   "cell_type": "code",
   "metadata": {
    "ExecuteTime": {
     "end_time": "2024-11-01T01:03:20.329820Z",
     "start_time": "2024-11-01T01:03:18.063918Z"
    }
   },
   "source": [
    "#for input from directly fetching mnist\n",
    "mnist = fetch_openml('mnist_784', as_frame=False)\n",
    "labels = mnist.target.astype(int)\n",
    "images = mnist.data/255\n",
    "\n",
    "length = 60_000 #Train on 60k, test on 10k\n",
    "training_labels, test_labels = labels[:length], labels[length:]\n",
    "training_images, test_images = images[:length], images[length:]"
   ],
   "outputs": [],
   "execution_count": 3
  },
  {
   "cell_type": "code",
   "metadata": {
    "ExecuteTime": {
     "end_time": "2024-11-01T01:03:20.410582Z",
     "start_time": "2024-11-01T01:03:20.340429Z"
    }
   },
   "source": [
    "def export_csv(net, ext=\"\"):\n",
    "    df_biases_a1 = pd.DataFrame(net.biases[0])\n",
    "    df_biases_a2 = pd.DataFrame(net.biases[1])\n",
    "    df_biases_o = pd.DataFrame(net.biases[2])\n",
    "    \n",
    "    df_weight_a1 = pd.DataFrame(net.weights[0])\n",
    "    df_weight_a2 = pd.DataFrame(net.weights[1])\n",
    "    df_weight_o = pd.DataFrame(net.weights[2])\n",
    "\n",
    "    df_biases_a1.to_csv(f'../data/biases_a1{ext}.csv', index=False)\n",
    "    df_biases_a2.to_csv(f'../data/biases_a2{ext}.csv' , index=False)\n",
    "    df_biases_o.to_csv(f'../data/biases_o{ext}.csv', index=False)\n",
    "\n",
    "    df_weight_a1.to_csv(f'../data/weights_a1{ext}.csv', index=False)\n",
    "    df_weight_a2.to_csv(f'../data/weights_a2{ext}.csv', index=False)\n",
    "    df_weight_o.to_csv(f'../data/weights_o{ext}.csv', index=False)\n",
    "\n",
    "def plot_image(i):\n",
    "    plt.imshow(images[i,:].reshape(28,28), cmap=\"gray\")\n",
    "    plt.title(labels[i])\n",
    "    plt.show()\n",
    "plot_image(0)"
   ],
   "outputs": [
    {
     "data": {
      "text/plain": [
       "<Figure size 640x480 with 1 Axes>"
      ],
      "image/png": "[encoded data removed]"
     },
     "metadata": {},
     "output_type": "display_data"
    }
   ],
   "execution_count": 4
  },
  {
   "cell_type": "code",
   "metadata": {
    "ExecuteTime": {
     "end_time": "2024-11-01T01:03:20.423937Z",
     "start_time": "2024-11-01T01:03:20.416509Z"
    }
   },
   "source": [
    "net = NeuralNet([784, 300, 300, 10])\n",
    "__export__init__ = False\n",
    "if __export__init__:\n",
    "    print(np.shape(net.biases[0]))\n",
    "    print(np.shape(net.biases[1]))\n",
    "    print(np.shape(net.biases[2]))\n",
    "    \n",
    "    print(np.shape(net.weights[0]))\n",
    "    print(np.shape(net.weights[1]))\n",
    "    print(np.shape(net.weights[2]))\n",
    "    export_csv(net, \"_init\")"
   ],
   "outputs": [],
   "execution_count": 5
  },
  {
   "cell_type": "code",
   "metadata": {
    "ExecuteTime": {
     "end_time": "2024-11-01T01:03:20.973083Z",
     "start_time": "2024-11-01T01:03:20.431177Z"
    }
   },
   "source": [
    "%%time\n",
    "#Evaluate the model before training\n",
    "net.evaluate((test_labels, test_images))"
   ],
   "outputs": [
    {
     "name": "stdout",
     "output_type": "stream",
     "text": [
      "CPU times: total: 125 ms\n",
      "Wall time: 538 ms\n"
     ]
    },
    {
     "data": {
      "text/plain": [
       "0.1113"
      ]
     },
     "execution_count": 6,
     "metadata": {},
     "output_type": "execute_result"
    }
   ],
   "execution_count": 6
  },
  {
   "cell_type": "code",
   "metadata": {
    "ExecuteTime": {
     "end_time": "2024-11-01T01:05:00.678932Z",
     "start_time": "2024-11-01T01:03:21.120173Z"
    }
   },
   "source": [
    "%%time\n",
    "net.train(training_data=(training_labels, training_images), iterations=1, batch_size=10, learning_rate=0.1)\n",
    "net.evaluate((test_labels, test_images))"
   ],
   "outputs": [
    {
     "name": "stdout",
     "output_type": "stream",
     "text": [
      "CPU times: total: 51.6 s\n",
      "Wall time: 1min 39s\n"
     ]
    },
    {
     "data": {
      "text/plain": [
       "0.9119"
      ]
     },
     "execution_count": 7,
     "metadata": {},
     "output_type": "execute_result"
    }
   ],
   "execution_count": 7
  },
  {
   "cell_type": "code",
   "metadata": {
    "ExecuteTime": {
     "end_time": "2024-11-01T01:05:03.697047Z",
     "start_time": "2024-11-01T01:05:00.838124Z"
    }
   },
   "source": [
    "%%time\n",
    "#time the model on 60k images for reference.\n",
    "net.evaluate((training_labels, training_images))"
   ],
   "outputs": [
    {
     "name": "stdout",
     "output_type": "stream",
     "text": [
      "CPU times: total: 1.2 s\n",
      "Wall time: 2.86 s\n"
     ]
    },
    {
     "data": {
      "text/plain": [
       "0.9239833333333334"
      ]
     },
     "execution_count": 8,
     "metadata": {},
     "output_type": "execute_result"
    }
   ],
   "execution_count": 8
  },
  {
   "cell_type": "code",
   "metadata": {
    "ExecuteTime": {
     "end_time": "2024-11-01T01:05:03.841535Z",
     "start_time": "2024-11-01T01:05:03.839246Z"
    }
   },
   "source": [
    "#export final weights and biases for use elsewhere\n",
    "if __export__init__:\n",
    "    export_csv(net)"
   ],
   "outputs": [],
   "execution_count": 9
  },
  {
   "cell_type": "code",
   "metadata": {
    "ExecuteTime": {
     "end_time": "2024-11-01T01:05:03.866240Z",
     "start_time": "2024-11-01T01:05:03.862900Z"
    }
   },
   "source": [
    "dweights, dbiases = net.propagate_backwards(test_labels[0], test_images[0])"
   ],
   "outputs": [],
   "execution_count": 10
  },
  {
   "cell_type": "code",
   "metadata": {
    "ExecuteTime": {
     "end_time": "2024-11-01T01:05:03.889221Z",
     "start_time": "2024-11-01T01:05:03.887461Z"
    }
   },
   "source": [],
   "outputs": [],
   "execution_count": null
  }
 ],
 "metadata": {
  "kernelspec": {
   "display_name": "Python 3 (ipykernel)",
   "language": "python",
   "name": "python3"
  },
  "language_info": {
   "codemirror_mode": {
    "name": "ipython",
    "version": 3
   },
   "file_extension": ".py",
   "mimetype": "text/x-python",
   "name": "python",
   "nbconvert_exporter": "python",
   "pygments_lexer": "ipython3",
   "version": "3.11.7"
  }
 },
 "nbformat": 4,
 "nbformat_minor": 4
}
