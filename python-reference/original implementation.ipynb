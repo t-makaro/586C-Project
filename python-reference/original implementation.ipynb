{
 "cells": [
  {
   "cell_type": "code",
   "execution_count": 1,
   "metadata": {},
   "outputs": [],
   "source": [
    "import numpy as np\n",
    "import matplotlib.pyplot as plt"
   ]
  },
  {
   "cell_type": "code",
   "execution_count": 4,
   "metadata": {},
   "outputs": [],
   "source": [
    "data = np.genfromtxt(\"../data/train.csv\", delimiter=\",\", skip_header=1, dtype=int)\n",
    "answers = data[:,0]\n",
    "images = data[:,1:]/255"
   ]
  },
  {
   "cell_type": "code",
   "execution_count": 5,
   "metadata": {},
   "outputs": [
    {
     "data": {
      "image/png": "[encoded data removed]",
      "text/plain": [
       "<Figure size 640x480 with 1 Axes>"
      ]
     },
     "metadata": {},
     "output_type": "display_data"
    }
   ],
   "source": [
    "def plot_image(i):\n",
    "    plt.imshow(images[i,:].reshape(28,28), cmap=\"gray\")\n",
    "    plt.title(answers[i])\n",
    "    plt.show()\n",
    "plot_image(0)"
   ]
  },
  {
   "cell_type": "code",
   "execution_count": 10,
   "metadata": {},
   "outputs": [],
   "source": [
    "def sigmoid(x):\n",
    "    return 1/(1+np.exp(-x))\n",
    "def d_sigmoid(x):\n",
    "    return np.exp(-x)/(1+np.exp(-x))**2\n",
    "\n",
    "def one_hot_vector(i):\n",
    "    return np.eye(10, dtype=int)[i]\n",
    "\n",
    "def classify(image, weights, biases):\n",
    "    \"\"\"Classifies an image from 0 to 9\"\"\"\n",
    "    a0 = image\n",
    "    a1 = sigmoid(weights[1]@a0+biases[1])\n",
    "    a2 = sigmoid(weights[2]@a1+biases[2])\n",
    "    a3 = sigmoid(weights[3]@a2+biases[3])\n",
    "    return np.argmax(a3)\n",
    "\n",
    "def grad(image, expected, weights, biases):\n",
    "    \"\"\"Computes the gradient of the cost function wrt one image\"\"\"\n",
    "    y = one_hot_vector(expected)\n",
    "    \n",
    "    a = [image]\n",
    "    z = [None]\n",
    "    for i in range(3):\n",
    "        z.append(weights[i+1]@a[i]+biases[i+1])\n",
    "        a.append(sigmoid(z[-1]))\n",
    "    \n",
    "    d_weights = [None]*4\n",
    "    d_biases = [None]*4\n",
    "    dC_da = [None]*4\n",
    "    dC_da[3] = 2*(a[3]-y)\n",
    "\n",
    "    for i in reversed(range(1,4)):\n",
    "        if i != 3:\n",
    "            dC_da[i] = np.sum(weights[i+1].T*(d_sigmoid(z[i+1])*dC_da[i+1]), axis=1)\n",
    "        d_biases[i] = d_sigmoid(z[i])*dC_da[i]\n",
    "        d_weights[i] = (a[i-1][:,np.newaxis]*d_biases[i]).T\n",
    "    \n",
    "    return d_weights, d_biases\n",
    "\n",
    "def add_grad(weights, biases, d_weights, d_biases, multi=1):\n",
    "    for i in range(1,4):\n",
    "        weights[i] += multi*d_weights[i]\n",
    "        biases[i] += multi*d_biases[i]\n",
    "    return weights, biases\n",
    "        \n",
    "def compute_average_grad(images, expected, weights, biases):\n",
    "    d_weights = [None,\n",
    "                np.zeros_like(weights[1]),\n",
    "                np.zeros_like(weights[2]),\n",
    "                np.zeros_like(weights[3])\n",
    "                ]\n",
    "    d_biases = [None,\n",
    "               np.zeros_like(biases[1]),\n",
    "               np.zeros_like(biases[2]),\n",
    "               np.zeros_like(biases[3])\n",
    "               ]\n",
    "    for image, ans in zip(images, expected):\n",
    "        dw, db = grad(image, ans, weights, biases)\n",
    "        d_weights, d_biases = add_grad(d_weights, d_biases, dw, db)\n",
    "    for i in range(1,4):\n",
    "        d_weights[i] /= len(images)\n",
    "        d_biases[i] /= len(images)\n",
    "    return d_weights, d_biases"
   ]
  },
  {
   "cell_type": "code",
   "execution_count": 11,
   "metadata": {},
   "outputs": [],
   "source": [
    "def random(shape):\n",
    "    return np.random.randn(*shape)\n",
    "\n",
    "weights = [\n",
    "    None,\n",
    "    random((16,784)),\n",
    "    random((16,16)),\n",
    "    random((10,16))\n",
    "]\n",
    "biases = [\n",
    "    None,\n",
    "    random((16,)),\n",
    "    random((16,)),\n",
    "    random((10,))\n",
    "]"
   ]
  },
  {
   "cell_type": "code",
   "execution_count": 12,
   "metadata": {},
   "outputs": [
    {
     "name": "stdout",
     "output_type": "stream",
     "text": [
      "CPU times: total: 2.83 s\n",
      "Wall time: 2.91 s\n"
     ]
    }
   ],
   "source": [
    "%%time\n",
    "n, mini_batch_size = 21_000, 1\n",
    "shuffled_data = np.arange(n).reshape(n//mini_batch_size, mini_batch_size)\n",
    "np.random.shuffle(shuffled_data)\n",
    "for choice in shuffled_data:\n",
    "    for i in range(1):\n",
    "        dw, db = compute_average_grad(images[choice], answers[choice], weights, biases)\n",
    "        weights, biases = add_grad(weights, biases, dw, db, -.1)"
   ]
  },
  {
   "cell_type": "code",
   "execution_count": 13,
   "metadata": {},
   "outputs": [
    {
     "data": {
      "text/plain": [
       "0.827"
      ]
     },
     "execution_count": 13,
     "metadata": {},
     "output_type": "execute_result"
    }
   ],
   "source": [
    "count = 0\n",
    "for i in range(21000, 42000):\n",
    "    if classify(images[i], weights, biases) == answers[i]:\n",
    "        count += 1\n",
    "count/21000"
   ]
  },
  {
   "cell_type": "code",
   "execution_count": 14,
   "metadata": {},
   "outputs": [
    {
     "data": {
      "image/png": "[encoded data removed]",
      "text/plain": [
       "<Figure size 640x480 with 1 Axes>"
      ]
     },
     "metadata": {},
     "output_type": "display_data"
    }
   ],
   "source": [
    "plot_image(22000)"
   ]
  },
  {
   "cell_type": "code",
   "execution_count": 15,
   "metadata": {},
   "outputs": [
    {
     "data": {
      "text/plain": [
       "np.int64(7)"
      ]
     },
     "execution_count": 15,
     "metadata": {},
     "output_type": "execute_result"
    }
   ],
   "source": [
    "classify(images[22000], weights, biases)"
   ]
  }
 ],
 "metadata": {
  "kernelspec": {
   "display_name": "Python 3",
   "language": "python",
   "name": "python3"
  },
  "language_info": {
   "codemirror_mode": {
    "name": "ipython",
    "version": 3
   },
   "file_extension": ".py",
   "mimetype": "text/x-python",
   "name": "python",
   "nbconvert_exporter": "python",
   "pygments_lexer": "ipython3",
   "version": "3.12.3"
  }
 },
 "nbformat": 4,
 "nbformat_minor": 2
}
